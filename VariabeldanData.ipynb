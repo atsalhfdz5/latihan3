{
 "cells": [
  {
   "cell_type": "code",
   "execution_count": 5,
   "id": "00e0385d",
   "metadata": {},
   "outputs": [
    {
     "name": "stdout",
     "output_type": "stream",
     "text": [
      "nama: M. Atsal Hafidz\n",
      "usia: 18\n",
      "sudah menikah: False\n",
      "hobi: Sepak Bola\n"
     ]
    }
   ],
   "source": [
    "nama = 'M. Atsal Hafidz'\n",
    "usia = 18\n",
    "sudah_menikah = False\n",
    "hobi = 'Sepak Bola'\n",
    "\n",
    "print('nama:',nama)\n",
    "print('usia:',usia)\n",
    "print('sudah menikah:',sudah_menikah )\n",
    "print('hobi:',hobi)"
   ]
  },
  {
   "cell_type": "code",
   "execution_count": 6,
   "id": "f06e637b",
   "metadata": {},
   "outputs": [
    {
     "name": "stdout",
     "output_type": "stream",
     "text": [
      "a: 1\n",
      "b: 2\n",
      "c: Mantap\n"
     ]
    }
   ],
   "source": [
    "a, b, c = 1,2, \"Mantap\"\n",
    "\n",
    "print('a:', a)\n",
    "print('b:', b)\n",
    "print('c:', c)"
   ]
  },
  {
   "cell_type": "code",
   "execution_count": 7,
   "id": "871ddbd7",
   "metadata": {},
   "outputs": [
    {
     "name": "stdout",
     "output_type": "stream",
     "text": [
      "d: 10\n",
      "e: 10\n",
      "f: 10\n"
     ]
    }
   ],
   "source": [
    "d = e = f = 10\n",
    "\n",
    "print('d:', d)\n",
    "print('e:', e)\n",
    "print('f:', f)"
   ]
  },
  {
   "cell_type": "code",
   "execution_count": 14,
   "id": "1dea682d",
   "metadata": {},
   "outputs": [
    {
     "name": "stdout",
     "output_type": "stream",
     "text": [
      "<class 'str'>\n",
      "<class 'int'>\n"
     ]
    }
   ],
   "source": [
    "kota = 'Sukabumi'\n",
    "luas = 500\n",
    "\n",
    "print(type(kota))\n",
    "print(type(luas))"
   ]
  },
  {
   "cell_type": "code",
   "execution_count": 24,
   "id": "0d26faf0",
   "metadata": {},
   "outputs": [
    {
     "name": "stdout",
     "output_type": "stream",
     "text": [
      "5 * 10.5 = 52.5\n",
      "tipe dari variabel panjang: <class 'int'>\n",
      "tipe dari variabel lebar: <class 'float'>\n",
      "tipe dari variabel luas: <class 'float'>\n"
     ]
    }
   ],
   "source": [
    "panjang = 5\n",
    "lebar = 10.5\n",
    "luas = panjang*lebar\n",
    "\n",
    "print(panjang,'*',lebar,'=',luas)\n",
    "print(\"tipe dari variabel panjang:\", type(panjang))\n",
    "print(\"tipe dari variabel lebar:\", type(lebar))\n",
    "print(\"tipe dari variabel luas:\", type(luas))"
   ]
  },
  {
   "cell_type": "code",
   "execution_count": 26,
   "id": "e382aac7",
   "metadata": {},
   "outputs": [
    {
     "name": "stdout",
     "output_type": "stream",
     "text": [
      "luas segitiga: 10 * 5 * 0.5 = 25.0\n"
     ]
    }
   ],
   "source": [
    "#luas segitiga\n",
    "alas = 10\n",
    "tinggi = 5\n",
    "rumus_luas = alas*tinggi*0.5\n",
    "\n",
    "print('luas segitiga:', alas,'*',tinggi,'*',0.5,'=', rumus_luas)"
   ]
  },
  {
   "cell_type": "code",
   "execution_count": 30,
   "id": "cb720f8d",
   "metadata": {},
   "outputs": [
    {
     "name": "stdout",
     "output_type": "stream",
     "text": [
      "itung umur: 2022 - 2004 = 18\n"
     ]
    }
   ],
   "source": [
    "#itung umur\n",
    "tahun_sekarang = 2022\n",
    "tahun_lahir = 2004\n",
    "itung_umur = tahun_sekarang-tahun_lahir\n",
    "\n",
    "print('itung umur:',tahun_sekarang,'-',tahun_lahir,'=',itung_umur)"
   ]
  },
  {
   "cell_type": "code",
   "execution_count": 31,
   "id": "18088d28",
   "metadata": {},
   "outputs": [
    {
     "name": "stdout",
     "output_type": "stream",
     "text": [
      "M.AtsalHafidz (18) , dari pangadegan ,kata mutiara: kenapa kita harus iri, karena kita punya cerita sendiri\n"
     ]
    }
   ],
   "source": [
    "#biodata\n",
    "nama_depan = 'M.Atsal'\n",
    "nama_belakang = 'Hafidz'\n",
    "nama_lengkap = nama_depan + nama_belakang\n",
    "usia = '18'\n",
    "alamat = 'pangadegan'\n",
    "kelas = 'Ti22E'\n",
    "jurusan = 'Teknik Informatika'\n",
    "kata_mutiara = 'kenapa kita harus iri, karena kita punya cerita sendiri'\n",
    "\n",
    "print(nama_lengkap, '('+ usia +')',',','dari', alamat, ',kata mutiara:', kata_mutiara)\n"
   ]
  },
  {
   "cell_type": "code",
   "execution_count": 34,
   "id": "c07cffc0",
   "metadata": {},
   "outputs": [
    {
     "name": "stdout",
     "output_type": "stream",
     "text": [
      "sayasayasaya\n"
     ]
    }
   ],
   "source": [
    "print('saya'*3)"
   ]
  },
  {
   "cell_type": "code",
   "execution_count": 36,
   "id": "eaa23eda",
   "metadata": {},
   "outputs": [
    {
     "name": "stdout",
     "output_type": "stream",
     "text": [
      "sayasaya\n"
     ]
    }
   ],
   "source": [
    "print('saya'+'saya')"
   ]
  },
  {
   "cell_type": "code",
   "execution_count": 37,
   "id": "ae355212",
   "metadata": {},
   "outputs": [
    {
     "name": "stdout",
     "output_type": "stream",
     "text": [
      "saya\n",
      "saya\n",
      "saya\n"
     ]
    }
   ],
   "source": [
    "print(\"saya\\nsaya\\nsaya\")"
   ]
  },
  {
   "cell_type": "code",
   "execution_count": 38,
   "id": "1dcb3e35",
   "metadata": {},
   "outputs": [
    {
     "name": "stdout",
     "output_type": "stream",
     "text": [
      "\n",
      "saya\n",
      "saya\n",
      "saya\n"
     ]
    }
   ],
   "source": [
    "print(\"\"\"\n",
    "saya\n",
    "saya\n",
    "saya\"\"\")"
   ]
  },
  {
   "cell_type": "code",
   "execution_count": 42,
   "id": "84c47c2b",
   "metadata": {},
   "outputs": [
    {
     "name": "stdout",
     "output_type": "stream",
     "text": [
      "apakah saya orang indonesia? True\n",
      "apakah saya adala robot? False\n",
      "Tipe dari saya_orang_indonesia <class 'bool'>\n",
      "Tipe dari saya_adalah_robot <class 'bool'>\n"
     ]
    }
   ],
   "source": [
    "saya_orang_indonesia = True\n",
    "saya_adalah_robot = False\n",
    "\n",
    "print('apakah saya orang indonesia?', saya_orang_indonesia)\n",
    "print('apakah saya adala robot?', saya_adalah_robot)\n",
    "print('Tipe dari saya_orang_indonesia', type(saya_orang_indonesia))\n",
    "print('Tipe dari saya_adalah_robot', type(saya_adalah_robot))"
   ]
  },
  {
   "cell_type": "code",
   "execution_count": 44,
   "id": "f5e3c837",
   "metadata": {},
   "outputs": [
    {
     "name": "stdout",
     "output_type": "stream",
     "text": [
      "False\n",
      "True\n",
      "False\n"
     ]
    }
   ],
   "source": [
    "foo = 12 < 10\n",
    "print(foo)\n",
    "\n",
    "foo = 10 < 12\n",
    "print(foo)\n",
    "\n",
    "foo = \"A\" == \"a\"\n",
    "print(foo)"
   ]
  },
  {
   "cell_type": "code",
   "execution_count": null,
   "id": "18dfd3e8",
   "metadata": {},
   "outputs": [],
   "source": []
  }
 ],
 "metadata": {
  "kernelspec": {
   "display_name": "Python 3 (ipykernel)",
   "language": "python",
   "name": "python3"
  },
  "language_info": {
   "codemirror_mode": {
    "name": "ipython",
    "version": 3
   },
   "file_extension": ".py",
   "mimetype": "text/x-python",
   "name": "python",
   "nbconvert_exporter": "python",
   "pygments_lexer": "ipython3",
   "version": "3.9.12"
  }
 },
 "nbformat": 4,
 "nbformat_minor": 5
}
